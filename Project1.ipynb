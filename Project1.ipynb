{
 "cells": [
  {
   "cell_type": "code",
   "execution_count": null,
   "id": "cfcbb35c",
   "metadata": {},
   "outputs": [],
   "source": [
    "from IPython.display import display, HTML\n",
    "display(HTML(\"<style>.container { width:100% !important; }</style>\"))\n",
    "from mpl_toolkits.mplot3d import Axes3D\n",
    "import matplotlib.pyplot as plt\n",
    "from matplotlib import cm\n",
    "from matplotlib.ticker import LinearLocator, FormatStrFormatter\n",
    "import numpy as np\n",
    "from random import random, seed\n",
    "seed(2022)"
   ]
  },
  {
   "cell_type": "markdown",
   "id": "8ecc2e00",
   "metadata": {},
   "source": [
    "# Test function"
   ]
  },
  {
   "cell_type": "code",
   "execution_count": null,
   "id": "885a2774",
   "metadata": {},
   "outputs": [],
   "source": [
    "import project1; import importlib; importlib.reload(project1); from project1.project1 import make_design_matrix\n",
    "N=5\n",
    "x, y = np.meshgrid(np.linspace(0,1,N),np.linspace(0,1,N))\n",
    "xvec  = np.array([x, y])\n",
    "X = make_design_matrix(xvec, p=3)"
   ]
  },
  {
   "cell_type": "code",
   "execution_count": null,
   "id": "38e59179",
   "metadata": {},
   "outputs": [],
   "source": [
    "from itertools import combinations_with_replacement\n",
    "N=5\n",
    "x, y = np.meshgrid(np.linspace(0,1,N),np.linspace(0,1,N))\n",
    "xvec  = np.array([x, y])\n",
    "xi = {\"x%i\"%i : xvec[i].ravel() for i in range(len(xvec))}\n",
    "keys = [key for key in xi.keys()]\n",
    "comb = []\n",
    "p = 2\n",
    "for p in range(1,p+1):\n",
    "    comb += [x for x in combinations_with_replacement(keys, p )]\n",
    "print(comb)\n",
    "X = make_design_matrix(xvec, p=2)\n",
    "print(X)"
   ]
  },
  {
   "cell_type": "code",
   "execution_count": null,
   "id": "5710c2cd",
   "metadata": {},
   "outputs": [],
   "source": [
    "def create_X(x, y, n ):\n",
    "\tif len(x.shape) > 1:\n",
    "\t\tx = np.ravel(x)\n",
    "\t\ty = np.ravel(y)\n",
    "\n",
    "\tN = len(x)\n",
    "\tl = int((n+1)*(n+2)/2)\t\t# Number of elements in beta\n",
    "\tX = np.ones((N,l))\n",
    "\n",
    "\tfor i in range(1,n+1):\n",
    "\t\tq = int((i)*(i+1)/2)\n",
    "\t\tfor k in range(i+1):\n",
    "\t\t\tX[:,q+k] = (x**(i-k))*(y**k)\n",
    "\n",
    "\treturn X\n",
    "\n",
    "x, y = np.meshgrid(np.linspace(0,1,N),np.linspace(0,1,N))\n",
    "X_lecturer = create_X(x = x, y = y, n = 2)\n",
    "np.sum(X_lecturer == X) == len(X.ravel())"
   ]
  },
  {
   "cell_type": "code",
   "execution_count": null,
   "id": "8fd837fb",
   "metadata": {},
   "outputs": [],
   "source": [
    "print(X_lecturer)\n",
    "X_lecturer[:,1:]"
   ]
  },
  {
   "cell_type": "code",
   "execution_count": null,
   "id": "86b9ef1d",
   "metadata": {},
   "outputs": [],
   "source": [
    "X_lecturer.shape"
   ]
  },
  {
   "cell_type": "code",
   "execution_count": null,
   "id": "c93700a6",
   "metadata": {},
   "outputs": [],
   "source": [
    "np.mean(X_lecturer, axis=1).shape"
   ]
  },
  {
   "cell_type": "code",
   "execution_count": null,
   "id": "f1753aff",
   "metadata": {},
   "outputs": [],
   "source": [
    "X_lecturer[:,1] - np.mean(X_lecturer[:,1])"
   ]
  },
  {
   "cell_type": "markdown",
   "id": "cf42fe19",
   "metadata": {},
   "source": [
    "# Time for generating design matrices"
   ]
  },
  {
   "cell_type": "code",
   "execution_count": null,
   "id": "8ac039d0",
   "metadata": {},
   "outputs": [],
   "source": [
    "import time\n",
    "model_complexity = 5\n",
    "xvec = np.array([x,y])\n",
    "for p in range(1,model_complexity+1):\n",
    "\n",
    "    tik = time.time()\n",
    "    X = make_design_matrix(xvec = xvec, p = p)\n",
    "    #X = create_X(x = x1, y=y1, n = p)\n",
    "    tok = time.time()\n",
    "    print(tok-tik)"
   ]
  },
  {
   "cell_type": "code",
   "execution_count": null,
   "id": "d781dcf5",
   "metadata": {},
   "outputs": [],
   "source": [
    "import time\n",
    "model_complexity = 5\n",
    "xvec = np.array([x1,y1])\n",
    "for p in range(1,model_complexity+1):\n",
    "    tik = time.time()\n",
    "    #X = make_design_matrix(xvec = xvec, p = p)\n",
    "    X = create_X(x = x, y=y, n = p)\n",
    "    tok = time.time()\n",
    "    print(tok-tik)"
   ]
  },
  {
   "cell_type": "markdown",
   "id": "5fcc24fe",
   "metadata": {},
   "source": [
    "# Simple 1D test case"
   ]
  },
  {
   "cell_type": "code",
   "execution_count": null,
   "id": "f9813ab1",
   "metadata": {},
   "outputs": [],
   "source": [
    "#%matplotlib inline\n",
    "import project1.project1;import importlib; importlib.reload(project1.project1);from project1.project1 import *\n",
    "x = np.arange(0,1,0.05)\n",
    "def test_func(**kwargs):\n",
    "    x = kwargs['x0']\n",
    "    return 5*x**2 + x\n",
    "\n",
    "xvec  = np.array([x])\n",
    "X = make_design_matrix(xvec = xvec, p = 5)\n",
    "z = test_func(**{'x0':x})\n",
    "noise = np.random.normal(0,1,size=z.shape)\n",
    "znoisy = z + noise\n",
    "znoisy_centered = np.array([[x] for x in znoisy - np.mean(znoisy)])\n",
    "A = np.linalg.pinv(X.T@X)@X.T\n",
    "betahat = A@znoisy_centered\n",
    "znoisy_tilde = X@betahat\n",
    "plt.plot(x, znoisy_centered, linestyle = 'dashed')\n",
    "plt.plot(x, znoisy_tilde)"
   ]
  },
  {
   "cell_type": "code",
   "execution_count": null,
   "id": "cd3e63f1",
   "metadata": {},
   "outputs": [],
   "source": [
    "#%matplotlib inline\n",
    "import project1.project1;import importlib; importlib.reload(project1.project1);from project1.project1 import *\n",
    "x = np.arange(0,1,0.05)\n",
    "xvec = np.array([x])\n",
    "z = test_func(**{'x0':x})\n",
    "noise = np.random.normal(0,1,size=z.shape)\n",
    "znoisy = z + noise\n",
    "znoisy_centered = znoisy - np.mean(znoisy)\n",
    "X = make_design_matrix(xvec = xvec, p = 5)\n",
    "znoisy_tilde, betahat = ols_fp_wo_split(X = X, y = znoisy_centered)\n",
    "plt.plot(x, znoisy_centered, linestyle = 'dashed')\n",
    "plt.plot(x, znoisy_tilde)\n"
   ]
  },
  {
   "cell_type": "code",
   "execution_count": null,
   "id": "22291755",
   "metadata": {},
   "outputs": [],
   "source": [
    "%matplotlib inline\n",
    "import project1.project1;import importlib; importlib.reload(project1.project1);from project1.project1 import *\n",
    "x, y = np.arange(0,1,0.1), np.arange(0,1,0.1)\n",
    "x, y = np.meshgrid(x,y)\n",
    "def test_func_2(**kwargs):\n",
    "    x = kwargs['x0']\n",
    "    y = kwargs['x1']\n",
    "    return 5*x**2 + x + 5*y**2 + y + np.exp(-x**2) +np.exp(-x*y) + np.exp(-y) \n",
    "xvec = np.array([x, y])\n",
    "X = make_design_matrix(xvec = xvec, p = 5)\n",
    "z = test_func_2(**{'x%i'%i: xvec[i] for i in range(len(xvec))})\n",
    "\n",
    "noise = np.random.normal(0,1,size=z.shape)\n",
    "znoisy = z + noise\n",
    "znoisy_centered = znoisy - np.mean(znoisy)\n",
    "znoisy_tilde, betahat = ols_fp_wo_split(X = X, y = znoisy_centered.ravel())\n",
    "znoisy_tilde = znoisy_tilde.reshape(x.shape)\n",
    "znoisy = znoisy.reshape(x.shape)\n",
    "\n",
    "\n",
    "fig, ax = plt.subplots(subplot_kw={'projection':'3d'}, figsize=(10,10))\n",
    "ax.plot_surface(x,y,znoisy_tilde + np.mean(znoisy), cmap=cm.viridis)\n",
    "ax.plot_surface(x,y,z, cmap=cm.coolwarm)"
   ]
  },
  {
   "cell_type": "markdown",
   "id": "174a1fa1",
   "metadata": {},
   "source": [
    "# b)"
   ]
  },
  {
   "cell_type": "code",
   "execution_count": null,
   "id": "0fd45e91",
   "metadata": {},
   "outputs": [],
   "source": [
    "%matplotlib inline\n",
    "import importlib; import project1; importlib.reload(project1)\n",
    "from project1.project1 import *\n",
    "x, y = np.meshgrid(np.arange(0,1,0.05),np.arange(0,1,0.05))\n",
    "xvec = np.array([x,y])\n",
    "z = FrankeFunction(**{'x%i'%i: xvec[i] for i in range(len(xvec))})\n",
    "noise = np.random.normal(0,1,size=z.shape)\n",
    "znoisy = z + noise\n",
    "znoisy_centered = znoisy - np.mean(znoisy)\n",
    "for p in range(1,6):\n",
    "    X = make_design_matrix(xvec = xvec, p = p)\n",
    "    znoisy_tilde, betahat = ols_fp_wo_split(X = X, y = znoisy_centered.ravel())\n",
    "znoisy_tilde = (znoisy_tilde + np.mean(znoisy)).reshape(x.shape)\n",
    "\n",
    "fig, ax = plt.subplots(subplot_kw={'projection':'3d'}, figsize=(10,10))\n",
    "ax.plot_surface(x,y,znoisy_tilde, cmap=cm.viridis)\n",
    "ax.plot_surface(x,y,z, cmap=cm.coolwarm)\n",
    "ax.view_init(20,45)"
   ]
  },
  {
   "cell_type": "code",
   "execution_count": null,
   "id": "73a7f7e2",
   "metadata": {},
   "outputs": [],
   "source": [
    "%matplotlib inline\n",
    "import importlib; import project1; importlib.reload(project1)\n",
    "from project1.project1 import *\n",
    "test_size = 0.3\n",
    "for N in [50,100, 500]:\n",
    "    x, y = np.meshgrid(np.linspace(0,1,N),np.linspace(0,1,N))\n",
    "    xvec = np.array([x,y])\n",
    "    maxdeg = 10\n",
    "    mses_train = np.zeros((maxdeg))\n",
    "    mses_test = np.zeros((maxdeg))\n",
    "    Rs_train = np.zeros((maxdeg))\n",
    "    Rs_test = np.zeros((maxdeg))\n",
    "\n",
    "    betas = []\n",
    "    z = FrankeFunction(**{'x%i'%i: xvec[i] for i in range(len(xvec))})\n",
    "    noise = np.random.normal(0,1,size=z.shape)\n",
    "    znoisy = z + noise\n",
    "    for p in range(1,maxdeg+1):\n",
    "        print(p)\n",
    "        #X = make_design_matrix(xvec = xvec, p = p)\n",
    "        X = create_X(x = xvec[0].ravel(), y = xvec[1].ravel(), n = p)\n",
    "\n",
    "        Xtrain, Xtest, znoisy_train, znoisy_test = train_test_split(X, znoisy.ravel(), \n",
    "                                                                    **{'random_state' : 42, 'test_size':test_size})\n",
    "        scale = 1/np.sqrt(np.sum(znoisy_train**2))\n",
    "        ztilde_train, betahat = ols_fp_wo_split(X = Xtrain, y = scale*(znoisy_train-np.mean(znoisy_train)))\n",
    "\n",
    "        ztilde_train = (1/scale)*ztilde_train + np.mean(znoisy_train)\n",
    "        ztilde_test = (1/scale)*Xtest@betahat + np.mean(znoisy_train)\n",
    "        betas.append(betahat)\n",
    "\n",
    "        mses_train[p-1] = MSE(y = znoisy_train,ytilde = ztilde_train)\n",
    "        mses_test[p-1] = MSE(y = znoisy_test,ytilde = ztilde_test )\n",
    "        Rs_train[p-1] = Rscore(y = znoisy_train, ytilde = ztilde_train)\n",
    "        Rs_test[p-1] = Rscore(y = znoisy_test, ytilde = ztilde_test)\n",
    "\n",
    "    fig, axs = plt.subplots(1,2, figsize=(10,5))\n",
    "    polydeg = np.arange(maxdeg)+1\n",
    "    fig.suptitle(\"$N=%i$, testsize $%.1f$ percentage\"%(N, test_size*100))\n",
    "    axs[0].plot(polydeg, mses_train, ls=\"--\", marker='o', label=\"Train\")\n",
    "    axs[0].plot(polydeg, mses_test, marker='o', label=\"Test\")\n",
    "    axs[0].set_ylabel(\"MSE\")\n",
    "    axs[1].plot(polydeg, Rs_train, marker='o', ls = \"--\", label = \"Train\")\n",
    "    axs[1].plot(polydeg, Rs_test, marker='o', label = \"Test\")\n",
    "\n",
    "    axs[1].set_ylabel(\"$R^2$ score\")\n",
    "    [ax.set_xlabel(\"Polynomial degree $p$\") for ax in axs]\n",
    "    [ax.set_xticks(polydeg, polydeg) for ax in axs]\n",
    "    [ax.legend() for ax in axs]\n",
    "    fig.tight_layout()"
   ]
  },
  {
   "cell_type": "code",
   "execution_count": null,
   "id": "30cfe9bc",
   "metadata": {},
   "outputs": [],
   "source": [
    "%matplotlib inline\n",
    "beta_matrix = np.ones((maxdeg, len(betas[-1])))*np.nan\n",
    "plt.figure(figsize=(10,10))\n",
    "for i in range(maxdeg):\n",
    "    for j in range(len(betas[i])):\n",
    "        beta_matrix[i,j] = betas[i][j]\n",
    "[plt.plot(np.arange(maxdeg) + 1, beta_matrix[:,i], label=\"$\\\\beta%i$\"%i) for i in range(beta_matrix.shape[-1])]\n",
    "plt.ylabel(\"$\\\\beta$\")\n",
    "plt.xlabel(\"Polynomial degree $p$\")\n",
    "plt.legend(ncol = 2, bbox_to_anchor=(1,.5,.15,.5))\n",
    "plt.xticks(np.arange(maxdeg) + 1,np.arange(maxdeg) + 1)"
   ]
  },
  {
   "cell_type": "markdown",
   "id": "c9da0378",
   "metadata": {},
   "source": [
    "# c)\n",
    "\n",
    "To plot surface data retrieve the indices from the uniqueness of the xy-coordinates."
   ]
  },
  {
   "cell_type": "code",
   "execution_count": null,
   "id": "11140dcb",
   "metadata": {},
   "outputs": [],
   "source": [
    "%matplotlib inline\n",
    "from sklearn.model_selection import train_test_split\n",
    "x, y = np.meshgrid(np.arange(0,1,0.01),np.arange(0,1,0.01))\n",
    "xvec = np.array([x,y])\n",
    "X = make_design_matrix(xvec = xvec, p = 4)\n",
    "z = FrankeFunction(**{'x%i'%i: xvec[i].ravel() for i in range(len(xvec))})\n",
    "noise = np.random.normal(0,.1,size=z.shape)\n",
    "znoisy = z + noise\n",
    "ztilde_train, ztilde_test, betahat, Xtrain, Xtest, ztrain,ztest = ols_fp_train_test_split(X = X, y = znoisy, \n",
    "                                                                                          **{\"test_size\" : 0.25, \n",
    "                                                                                             \"random_state\" : 42})\n",
    "xtrain = Xtrain[:,1]\n",
    "ytrain = Xtrain[:,2]\n",
    "shape_train = (x.shape[0], len(ytrain)//x.shape[0])\n",
    "xtest = Xtest[:,1]\n",
    "ytest = Xtest[:,2]\n",
    "shape_test = (x.shape[0], len(ytest)//x.shape[0])\n",
    "\n",
    "fig, axs = plt.subplots(2,2,subplot_kw={'projection':'3d'}, figsize=(10,10))\n",
    "axs[0,0].scatter(xtrain, ytrain, ztilde_train, c=ztilde_train, cmap=cm.viridis)\n",
    "#axs[0].scatter(xtrain, ytrain, ztrain, c=ztrain, cmap=cm.coolwarm)\n",
    "axs[0,1].scatter(xtrain, ytrain, np.mean(z)+ztrain-ztilde_train, c=np.mean(z)+ztrain-ztilde_train, cmap=cm.coolwarm)\n",
    "\n",
    "axs[1,0].scatter(xtest, ytest, ztilde_test, c=ztilde_test, cmap=cm.viridis)\n",
    "#axs[1].scatter(xtest, ytest, ztest, c=ztest, cmap=cm.coolwarm)\n",
    "axs[1,1].scatter(xtest, ytest, ztest + np.mean(z)-ztilde_test, c=np.mean(z)+ztest-ztilde_test, cmap=cm.coolwarm)\n",
    "[ax.view_init(15,45) for ax in axs.ravel()]"
   ]
  },
  {
   "cell_type": "markdown",
   "id": "b2e2b2cb",
   "metadata": {},
   "source": [
    "# Bias-variance trade-off"
   ]
  },
  {
   "cell_type": "markdown",
   "id": "903555ae",
   "metadata": {},
   "source": [
    "### 1D test case\n"
   ]
  },
  {
   "cell_type": "code",
   "execution_count": null,
   "id": "f57eacf2",
   "metadata": {},
   "outputs": [],
   "source": [
    "def test_func_exp(**kwargs):\n",
    "    x = kwargs['x0']\n",
    "    return np.exp(x -x**2) + 5*x**2 + x"
   ]
  },
  {
   "cell_type": "code",
   "execution_count": null,
   "id": "070eac16",
   "metadata": {},
   "outputs": [],
   "source": [
    "import numpy as np\n",
    "np.random.seed(2022)\n",
    "import importlib; import project1; importlib.reload(project1)\n",
    "from project1.project1 import *\n",
    "model_complexity = 20\n",
    "mses_train, Rs_train = np.zeros((model_complexity)), np.zeros((model_complexity))\n",
    "mses_test, Rs_test = np.zeros((model_complexity)), np.zeros((model_complexity))\n",
    "x = np.arange(0,1,0.01)\n",
    "xvec = np.array([x])\n",
    "z = test_func_exp(**{'x%i'%i: xvec[i].ravel() for i in range(len(xvec))})\n",
    "noise = np.random.normal(0,1,size=z.shape)\n",
    "znoisy = z + noise\n",
    "for p in range(1,model_complexity+1):\n",
    "    X = make_design_matrix(xvec = xvec, p = p)\n",
    "    \n",
    "    ztilde_train, ztilde_test, betahat, Xtrain, Xtest, ztrain,ztest = ols_fp_train_test_split(X = X, y = znoisy, \n",
    "                                                                                              **{\"test_size\" : 0.3, \n",
    "                                                                                                \"random_state\" : 42})\n",
    "    mses_train[p-1] = MSE(y = ztrain,ytilde = ztilde_train)\n",
    "    Rs_train[p-1] = Rscore(y = ztrain, ytilde = ztilde_train)\n",
    "    \n",
    "    mses_test[p-1] = MSE(y = ztest,ytilde = ztilde_test)\n",
    "    Rs_test[p-1] = Rscore(y = ztest, ytilde = ztilde_test)\n",
    "    \n",
    "ps = [i for i in range(1,model_complexity+1)]\n",
    "plt.plot(ps, np.log10(mses_train), label=\"MSE train\")\n",
    "plt.plot(ps, np.log10(mses_test), label=\"MSE test\")\n",
    "plt.legend()\n",
    "plt.ylabel(\"log10 MSE\")\n",
    "plt.xlabel(\"Polynomial degree\")\n",
    "plt.xticks(np.arange(model_complexity)[::2]+1,np.arange(20)[::2]+1)"
   ]
  },
  {
   "cell_type": "markdown",
   "id": "c27ac75a",
   "metadata": {},
   "source": [
    "## 2D Test case"
   ]
  },
  {
   "cell_type": "code",
   "execution_count": null,
   "id": "1eaf8a8b",
   "metadata": {},
   "outputs": [],
   "source": [
    "def test_func_2(**kwargs):\n",
    "    x = kwargs['x0']\n",
    "    y = kwargs['x1']\n",
    "    return np.exp(x -(x+y)**2) + 5*x**2 + x*y\n",
    "\n",
    "model_complexity = 10\n",
    "mses_train, Rs_train = np.zeros((model_complexity)), np.zeros((model_complexity))\n",
    "mses_test, Rs_test = np.zeros((model_complexity)), np.zeros((model_complexity))\n",
    "x, y = np.meshgrid(np.arange(0,1,0.05),np.arange(0,1,0.05))\n",
    "xvec = np.array([x,y])\n",
    "z = test_func_2(**{'x%i'%i: xvec[i].ravel() for i in range(len(xvec))})\n",
    "noise = np.random.normal(0,1,size=z.shape)\n",
    "znoisy = z + noise\n",
    "for p in range(1,model_complexity+1):\n",
    "    X = make_design_matrix(xvec = xvec, p = p)\n",
    "    \n",
    "    ztilde_train, ztilde_test, betahat, Xtrain, Xtest, ztrain,ztest = ols_fp_train_test_split(X = X, y = znoisy, \n",
    "                                                                                              **{\"test_size\" : 0.3, \n",
    "                                                                                                \"random_state\" : 42})\n",
    "    mses_train[p-1] = MSE(y = ztrain,ytilde = ztilde_train)\n",
    "    Rs_train[p-1] = Rscore(y = ztrain, ytilde = ztilde_train)\n",
    "    \n",
    "    mses_test[p-1] = MSE(y = ztest,ytilde = ztilde_test)\n",
    "    Rs_test[p-1] = Rscore(y = ztest, ytilde = ztilde_test)\n",
    "# plot log10(MSE) wrt to the polynomial degree\n",
    "ps = [i for i in range(1,model_complexity+1)]\n",
    "plt.plot(ps, np.log10(mses_train), label=\"MSE train\")\n",
    "plt.plot(ps, np.log10(mses_test), label=\"MSE test\")\n",
    "plt.legend()\n",
    "plt.ylabel(\"log10 MSE\")\n",
    "plt.xlabel(\"Polynomial degree\")\n",
    "plt.xticks(np.arange(model_complexity)[::2]+1,np.arange(model_complexity)[::2]+1)"
   ]
  },
  {
   "cell_type": "markdown",
   "id": "b71527e5",
   "metadata": {},
   "source": [
    "# Bias-variance trade-off Franke function"
   ]
  },
  {
   "cell_type": "code",
   "execution_count": null,
   "id": "bbff3d64",
   "metadata": {},
   "outputs": [],
   "source": [
    "model_complexity = 20\n",
    "x, y = np.meshgrid(np.arange(0,1,0.05),np.arange(0,1,0.05))\n",
    "xvec = np.array([x,y])\n",
    "mses_train, Rs_train, bias_train, variance_train = np.zeros((model_complexity)), np.zeros((model_complexity)),np.zeros((model_complexity)), np.zeros((model_complexity))\n",
    "mses_test, Rs_test, bias_test, variance_test = np.zeros((model_complexity)), np.zeros((model_complexity)),np.zeros((model_complexity)), np.zeros((model_complexity))\n",
    "\n",
    "z = FrankeFunction(**{'x%i'%i: xvec[i].ravel() for i in range(len(xvec))})\n",
    "noise = np.random.normal(0,1,size=z.shape)\n",
    "znoisy = z + noise\n",
    "for p in range(1,model_complexity+1):\n",
    "    X = make_design_matrix(xvec = xvec, p = p)\n",
    "    ztilde_train, ztilde_test, betahat, Xtrain, Xtest, ztrain,ztest = ols_fp_train_test_split(X = X, y = znoisy, \n",
    "                                                                                              **{\"test_size\" : 0.3, \n",
    "                                                                                                \"random_state\" : 42})\n",
    "    \n",
    "    mses_train[p-1] = MSE(y = ztrain,ytilde = ztilde_train)\n",
    "    Rs_train[p-1] = Rscore(y = ztrain, ytilde = ztilde_train)\n",
    "    bias_train[p-1] = np.mean((ztrain-np.mean(ztilde_train))**2)\n",
    "    variance_train[p-1] = np.var(ztilde_train)\n",
    "    \n",
    "    mses_test[p-1] = MSE(y = ztest,ytilde = ztilde_test)\n",
    "    Rs_test[p-1] = Rscore(y = ztest, ytilde = ztilde_test)\n",
    "    bias_test[p-1] = np.mean((ztest-np.mean(ztilde_test))**2)\n",
    "    variance_test[p-1] = np.var(ztilde_test)\n",
    "\n",
    "# plot log10(MSE) wrt polynomial degrees\n",
    "ps = [i for i in range(1,model_complexity+1)]\n",
    "#plt.plot(ps, np.log10(mses_train), label=\"MSE train\")\n",
    "plt.plot(ps, np.log10(mses_test), label=\"MSE test\")\n",
    "#plt.plot(ps, np.log10(bias_train), label=\"Bias train\")\n",
    "plt.plot(ps, np.log10(bias_test), label=\"Bias test\")\n",
    "#plt.plot(ps, np.log10(variance_train), label=\"Var train\")\n",
    "plt.plot(ps, np.log10(variance_test), label=\"Var test\")\n",
    "plt.legend()\n",
    "plt.ylabel(\"log10(MSE)\")\n",
    "plt.xlabel(\"Polynomial degree\")"
   ]
  },
  {
   "cell_type": "markdown",
   "id": "1bdd8af5",
   "metadata": {},
   "source": [
    "# Bootstrap"
   ]
  },
  {
   "cell_type": "code",
   "execution_count": null,
   "id": "e11b2b1c",
   "metadata": {},
   "outputs": [],
   "source": [
    "import importlib; import project1; importlib.reload(project1); from project1.project1 import *\n",
    "model_complexity = 20\n",
    "k = 100\n",
    "x, y = np.meshgrid(np.arange(0,1,0.05),np.arange(0,1,0.05))\n",
    "xvec = np.array([x,y])\n",
    "mses_train, Rs_train, bias_train, variance_train = np.zeros((model_complexity, k)), np.zeros((model_complexity,k)),np.zeros((model_complexity, k)), np.zeros((model_complexity,k))\n",
    "mses_test, Rs_test, bias_test, variance_test = np.zeros((model_complexity, k)), np.zeros((model_complexity, k)),np.zeros((model_complexity, k)), np.zeros((model_complexity, k))\n",
    "\n",
    "z = FrankeFunction(**{'x%i'%i: xvec[i].ravel() for i in range(len(xvec))})\n",
    "noise = np.random.normal(0,1,size=z.shape)\n",
    "znoisy = z + noise\n",
    "\n",
    "for p in range(1,model_complexity+1):\n",
    "    print(p)\n",
    "    X = make_design_matrix(xvec = xvec, p = p)\n",
    "    Xtrain, Xtest, ztrain,ztest = train_test_split(X, znoisy,**{\"test_size\" : 0.25, \"random_state\" : 42})\n",
    "    for ik in range(k):\n",
    "        z_resampled = resample(data = ztrain)\n",
    "        X_resampled = resample(data = Xtrain)\n",
    "        ztilde_train, betahat = ols_fp_wo_split(X=Xtrain, y=ztrain)\n",
    "        ztilde_test = Xtest@betahat\n",
    "        mses_train[p-1, ik] = MSE(y = ztrain,ytilde = ztilde_train)\n",
    "        Rs_train[p-1, ik] = Rscore(y = ztrain, ytilde = ztilde_train)\n",
    "        bias_train[p-1, ik] = np.mean((ztrain-np.mean(ztilde_train))**2)\n",
    "        variance_train[p-1, ik] = np.var(ztilde_train)\n",
    "\n",
    "        mses_test[p-1, ik] = MSE(y = ztest,ytilde = ztilde_test)\n",
    "        Rs_test[p-1, ik] = Rscore(y = ztest, ytilde = ztilde_test)\n",
    "        bias_test[p-1, ik] = np.mean((ztest-np.mean(ztilde_test))**2)\n",
    "        variance_test[p-1, ik] = np.var(ztilde_test)\n",
    "\n",
    "# plot log10(MSE) wrt polynomial degrees\n",
    "ps = [i for i in range(1,model_complexity+1)]\n",
    "#plt.plot(ps, np.log10(np.mean(mses_train, axis = 1)), label=\"MSE train\")\n",
    "plt.plot(ps, np.log10(np.mean(mses_test, axis = 1)), label=\"MSE test\")\n",
    "#plt.plot(ps, np.log10(np.mean(bias_train, axis = 1)), label=\"Bias train\")\n",
    "plt.plot(ps, np.log10(np.mean(bias_test, axis = 1)), label=\"Bias test\")\n",
    "#plt.plot(ps, np.log10(np.mean(variance_train, axis = 1)), label=\"Var train\")\n",
    "plt.plot(ps, np.log10(np.mean(variance_test, axis = 1)), label=\"Var test\")\n",
    "plt.legend()\n",
    "plt.ylabel(\"log10(MSE)\")\n",
    "plt.xlabel(\"Polynomial degree\")"
   ]
  },
  {
   "cell_type": "markdown",
   "id": "9d6246ca",
   "metadata": {},
   "source": [
    "# d) cross validation"
   ]
  },
  {
   "cell_type": "markdown",
   "id": "60e6dea0",
   "metadata": {},
   "source": [
    "### Testing the standardscaler from SL and compare it to own code"
   ]
  },
  {
   "cell_type": "code",
   "execution_count": null,
   "id": "49a796b9",
   "metadata": {},
   "outputs": [],
   "source": [
    "from sklearn.preprocessing import StandardScaler\n",
    "import importlib; import project1; importlib.reload(project1); from project1.project1 import *\n",
    "N = 10; p=2\n",
    "x, y = np.meshgrid(np.linspace(0,1,N),np.linspace(0,1,N))\n",
    "X = create_X(x = x, y=y, n=p)\n",
    "print(X)\n",
    "scaler = StandardScaler(with_std=True)\n",
    "scaler.fit(X)\n",
    "Xscaled_SL = scaler.transform(X)\n",
    "Xscaled = scale_center_X(X=X)\n",
    "print(Xscaled_SL, Xscaled)\n",
    "Xscaled_SL == Xscaled"
   ]
  },
  {
   "cell_type": "markdown",
   "id": "e296fd40",
   "metadata": {},
   "source": [
    "## Franke function"
   ]
  },
  {
   "cell_type": "code",
   "execution_count": null,
   "id": "f9969221",
   "metadata": {
    "scrolled": true
   },
   "outputs": [],
   "source": [
    "import importlib; import project1; importlib.reload(project1); from project1.project1 import *\n",
    "model_complexity = 20\n",
    "x, y = np.meshgrid(np.arange(0,1,0.05),np.arange(0,1,0.05))\n",
    "xvec = np.array([x,y])\n",
    "z = FrankeFunction(**{'x%i'%i: xvec[i].ravel() for i in range(len(xvec))})\n",
    "noise = np.random.normal(0,1,size=z.shape)\n",
    "znoisy = z + noise\n",
    "k = 5\n",
    "mses_train, var_train, bias_train, variance_train = np.zeros((model_complexity, k)), np.zeros((model_complexity,k)),np.zeros((model_complexity, k)), np.zeros((model_complexity,k))\n",
    "mses_test, var_test, bias_test, variance_test = np.zeros((model_complexity, k)), np.zeros((model_complexity, k)),np.zeros((model_complexity, k)), np.zeros((model_complexity, k))\n",
    "for p in range(1,model_complexity+1):\n",
    "    mses_train[p-1], mses_test[p-1], bias_train[p-1], bias_test[p-1], var_train[p-1], var_test[p-1] = cross_validation(data = znoisy, xvec = xvec, k = k, p = p, method = \"ols\")\n",
    "# plot log10(MSE) wrt polynomial degree\n",
    "ps = [i for i in range(1,model_complexity+1)]\n",
    "#plt.plot(ps, np.log10(np.mean(mses_train, axis = 1)), label=\"MSE train\")\n",
    "plt.plot(ps, np.log10(np.mean(mses_test, axis = 1)), label=\"MSE test\")\n",
    "#plt.plot(ps, np.log10(np.mean(bias_train, axis = 1)), label=\"Bias train\")\n",
    "plt.plot(ps, np.log10(np.mean(bias_test, axis = 1)), label=\"Bias test\")\n",
    "#plt.plot(ps, np.log10(np.mean(var_train, axis = 1)), label=\"Var train\")\n",
    "plt.plot(ps, np.log10(np.mean(var_test, axis = 1)), label=\"Var test\")\n",
    "plt.legend()\n",
    "plt.ylabel(\"log10(MSE)\")\n",
    "plt.xlabel(\"Polynomial degree\")"
   ]
  },
  {
   "cell_type": "markdown",
   "id": "6df8f35b",
   "metadata": {},
   "source": [
    "### Ridge comparison $\\lambda = 0$\n",
    "- should give similar features as the OLS\n",
    "    - but bias is tending to increase with the polynomial degree..."
   ]
  },
  {
   "cell_type": "code",
   "execution_count": null,
   "id": "0dcd4426",
   "metadata": {},
   "outputs": [],
   "source": [
    "import importlib; import project1; importlib.reload(project1); from project1.project1 import *\n",
    "model_complexity = 20\n",
    "x, y = np.meshgrid(np.arange(0,1,0.05),np.arange(0,1,0.05))\n",
    "xvec = np.array([x,y])\n",
    "z = FrankeFunction(**{'x%i'%i: xvec[i] for i in range(len(xvec))})\n",
    "noise = np.random.normal(0,1,size=z.shape)\n",
    "znoisy = z + noise\n",
    "k = 5\n",
    "mses_train, var_train, bias_train, variance_train = np.zeros((model_complexity, k)), np.zeros((model_complexity,k)),np.zeros((model_complexity, k)), np.zeros((model_complexity,k))\n",
    "mses_test, var_test, bias_test, variance_test = np.zeros((model_complexity, k)), np.zeros((model_complexity, k)),np.zeros((model_complexity, k)), np.zeros((model_complexity, k))\n",
    "for p in range(1,model_complexity+1):\n",
    "    mses_train[p-1], mses_test[p-1], bias_train[p-1], bias_test[p-1], var_train[p-1], var_test[p-1] = cross_validation(data = znoisy, xvec = xvec, k = k, p = p, method = \"ridge\", lmbda=0, scale_centering=True)\n",
    "# plot log10(MSE) wrt polynomial degree\n",
    "ps = [i for i in range(1,model_complexity+1)]\n",
    "#plt.plot(ps, np.log10(np.mean(mses_train, axis = 1)), label=\"MSE train\")\n",
    "plt.plot(ps, np.log10(np.mean(mses_test, axis = 1)), label=\"MSE test\")\n",
    "#plt.plot(ps, np.log10(np.mean(bias_train, axis = 1)), label=\"Bias train\")\n",
    "plt.plot(ps, np.log10(np.mean(bias_test, axis = 1)), label=\"Bias test\")\n",
    "#plt.plot(ps, np.log10(np.mean(var_train, axis = 1)), label=\"Var train\")\n",
    "plt.plot(ps, np.log10(np.mean(var_test, axis = 1)), label=\"Var test\")\n",
    "plt.legend()\n",
    "plt.ylabel(\"log10(MSE)\")\n",
    "plt.xlabel(\"Polynomial degree\")"
   ]
  },
  {
   "cell_type": "markdown",
   "id": "1747c492",
   "metadata": {},
   "source": [
    "# e) Ridge with CV and bootstrap\n",
    "- Bias-variance trade-off\n",
    "- MSE and R2-score\n",
    "- study dependence on $\\lambda$"
   ]
  },
  {
   "cell_type": "markdown",
   "id": "8e72a4a0",
   "metadata": {},
   "source": [
    "## CV\n",
    "- check: for $\\lambda = 0$ do I get the same as the OLS"
   ]
  },
  {
   "cell_type": "markdown",
   "id": "010bf990",
   "metadata": {},
   "source": [
    "## Simple test case"
   ]
  },
  {
   "cell_type": "code",
   "execution_count": null,
   "id": "25f07fe5",
   "metadata": {},
   "outputs": [],
   "source": [
    "import importlib; import project1; importlib.reload(project1); from project1.project1 import *\n",
    "\n",
    "# A seed just to ensure that the random numbers are the same for every run.\n",
    "# Useful for eventual debugging.\n",
    "np.random.seed(3155)\n",
    "\n",
    "# Generate the data.\n",
    "nsamples = 50\n",
    "x = np.random.randn(nsamples)\n",
    "y = 3*x**2 + np.random.randn(nsamples)\n",
    "p = 6\n",
    "k = 5\n",
    "# Decide which values of lambda to use\n",
    "nlambdas = 500\n",
    "lambdas = np.logspace(-3, 5, nlambdas)\n",
    "mses_train, var_train, bias_train = np.zeros((len(lambdas), k)), np.zeros((len(lambdas), k)),np.zeros((len(lambdas), k))\n",
    "mses_test, var_test, bias_test = np.zeros((len(lambdas), k)), np.zeros((len(lambdas), k)),np.zeros((len(lambdas), k))\n",
    "splits = kfold(data=y, k=k, random_state = 3155)\n",
    "for i in range(len(lambdas)):\n",
    "    mses_train[i], mses_test[i], bias_train[i], bias_test[i], var_train[i], var_test[i] = cross_validation(data = y, splits = splits, xvec = np.array([x]), k = k, p = p, method = \"ridge\", lmbda = lambdas[i], scale_centering=True)"
   ]
  },
  {
   "cell_type": "code",
   "execution_count": null,
   "id": "fde326c6",
   "metadata": {},
   "outputs": [],
   "source": [
    "from sklearn.linear_model import Ridge\n",
    "from sklearn.model_selection import cross_val_score\n",
    "from sklearn.preprocessing import PolynomialFeatures\n",
    "from sklearn.model_selection import KFold\n",
    "# Initialize a KFold instance\n",
    "k = 5\n",
    "kfold = KFold(n_splits = k, random_state=3155, shuffle=True)\n",
    "poly = PolynomialFeatures(degree = p)\n",
    "estimated_mse_sklearn = np.zeros(nlambdas)\n",
    "i = 0\n",
    "for lmb in lambdas:\n",
    "    # generate model\n",
    "    ridge = Ridge(alpha = lmb)\n",
    "    # make design matrix\n",
    "    X_SL = poly.fit_transform(x[:, np.newaxis])\n",
    "    # scale design matrix\n",
    "    X_SL_scaled = scale_center_X(X = X_SL[:,1:])\n",
    "    # perform cross-validation\n",
    "    estimated_mse_folds = cross_val_score(ridge, X_SL_scaled, y[:, np.newaxis]-np.mean(y[:, np.newaxis]), \n",
    "                                          scoring='neg_mean_squared_error', cv=kfold)\n",
    "    # store mse values\n",
    "    estimated_mse_sklearn[i] = np.mean(-estimated_mse_folds)\n",
    "\n",
    "    i += 1"
   ]
  },
  {
   "cell_type": "code",
   "execution_count": null,
   "id": "5a26b764",
   "metadata": {},
   "outputs": [],
   "source": [
    "plt.plot(np.log10(lambdas), np.log10(np.mean(mses_test, axis=1)), label=\"MSE test\")\n",
    "#plt.plot(np.log10(lambdas), np.log10(np.mean(mses_train, axis=1)), label=\"MSE train\")\n",
    "\n",
    "plt.plot(np.log10(lambdas), np.log10(estimated_mse_sklearn), label = 'cross_val_score')\n",
    "#plt.plot(np.log10(lambdas), np.log10(np.mean(mses_test, axis=1))-np.log10(estimated_mse_sklearn), label = 'diff')\n",
    "\n",
    "plt.legend()"
   ]
  },
  {
   "cell_type": "markdown",
   "id": "be400f70",
   "metadata": {},
   "source": [
    "## Franke function"
   ]
  },
  {
   "cell_type": "code",
   "execution_count": null,
   "id": "e5f20332",
   "metadata": {},
   "outputs": [],
   "source": [
    "import importlib; import project1; importlib.reload(project1); from project1.project1 import *\n",
    "x, y = np.meshgrid(np.arange(0,1,0.05),np.arange(0,1,0.05))\n",
    "xvec = np.array([x,y])\n",
    "z = FrankeFunction(**{'x%i'%i: xvec[i] for i in range(len(xvec))})\n",
    "noise = np.random.normal(0,1,size=z.shape)\n",
    "znoisy = z + noise\n",
    "model_complexity = 20\n",
    "k = 5\n",
    "lambdas = np.array([0]+list(np.logspace(-5,5,10)))\n",
    "mses_train, bias_train, var_train = np.zeros((model_complexity, len(lambdas), k)),np.zeros((model_complexity, len(lambdas), k)),np.zeros((model_complexity, len(lambdas), k))\n",
    "mses_test, bias_test, var_test = np.zeros((model_complexity, len(lambdas), k)),np.zeros((model_complexity, len(lambdas), k)),np.zeros((model_complexity, len(lambdas), k))\n",
    "for p in range(1, model_complexity+1):\n",
    "    print(p)\n",
    "    X = make_design_matrix(xvec = xvec, p = p)\n",
    "    splits = kfold(data=y, k=k, random_state = 3155)\n",
    "    for i in range(len(lambdas)):\n",
    "        #print(lambdas[i])\n",
    "        mses_train[p-1, i], mses_test[p-1, i], bias_train[p-1, i], bias_test[p-1, i], var_train[p-1, i], var_test[p-1, i] = cross_validation(data = znoisy, splits = splits, xvec = xvec, k = k, p = p, method = \"ridge\", lmbda = lambdas[i], scale_centering=True)\n"
   ]
  },
  {
   "cell_type": "code",
   "execution_count": null,
   "id": "959f86b4",
   "metadata": {},
   "outputs": [],
   "source": [
    "fig, axs = plt.subplots(1,len(lambdas), figsize=(len(lambdas)*5,5), sharey=True)\n",
    "\n",
    "ps = np.arange(model_complexity)+1\n",
    "\n",
    "for i in range(len(lambdas)):\n",
    "    if lambdas[i] == 0:\n",
    "        axs[i].set_title(\"$\\\\lambda = 0$\")\n",
    "    else:    \n",
    "        axs[i].set_title(\"$\\\\lambda = 10^{%.3f}$\"%np.log10(lambdas[i]))\n",
    "    axs[i].plot(ps, np.log10(np.mean(mses_train[:,i],axis=1)),  label=\"MSE train\", color = 'b')\n",
    "    axs[i].plot(ps, np.log10(np.mean(mses_test[:,i], axis=1)),  label=\"MSE test\",  color = 'b', ls='--')\n",
    "    axs[i].plot(ps, np.log10(np.mean(bias_train[:,i],axis=1)),  label=\"(Bias[$\\\\tilde{\\mathbf{y}}_\\mathrm{train}$]$)^{2}$\",color = 'C1')\n",
    "    axs[i].plot(ps, np.log10(np.mean(bias_test[:,i], axis=1)),  label=\"(Bias[$\\\\tilde{\\mathbf{y}}_\\mathrm{train}$]$)^{2}$\", color = 'C1', ls='--')\n",
    "    axs[i].plot(ps, np.log10(np.mean(var_train[:,i], axis=1)),  label=\"Var train\", color = 'C2')\n",
    "    axs[i].plot(ps, np.log10(np.mean(var_test[:,i],  axis=1)),  label=\"Var test\",  color = 'C2', ls='--')\n",
    "[ax.set_ylabel(\"log10(MSE)\") for ax in axs]\n",
    "[ax.set_xlabel(\"Polynomial degree\") for ax in axs]\n",
    "[ax.legend() for ax in axs]\n",
    "fig.tight_layout()"
   ]
  },
  {
   "cell_type": "code",
   "execution_count": null,
   "id": "a2339857",
   "metadata": {},
   "outputs": [],
   "source": [
    "carr = np.arange(mses_train.shape[0])/mses_train.shape[0]\n",
    "cs_train = plt.cm.copper(carr)\n",
    "cs_test = plt.cm.cool(carr)\n",
    "fig, ax = plt.subplots(1,1, figsize=(10,5))\n",
    "for ip in range(mses_train.shape[0]):\n",
    "    ax.plot(lambdas, np.mean(mses_train[ip], axis=1), color = cs_train[ip], label=\"Train p = %i\"%(ip+1))\n",
    "    ax.plot(lambdas, np.mean(mses_test[ip], axis=1), color = cs_test[ip], label=\"Test p = %i\"%(ip+1))\n",
    "\n",
    "ax.set_xscale('log')\n",
    "ax.set_yscale('log')\n",
    "ax.set_ylim(.8,2)\n",
    "ax.set_ylabel(\"MSE\")\n",
    "ax.set_xlabel(\"$\\\\lambda$\")\n",
    "ax.legend(bbox_to_anchor=(1.1,.9,0,.1), ncol=2)\n",
    "fig.tight_layout()"
   ]
  },
  {
   "cell_type": "markdown",
   "id": "91d36928",
   "metadata": {},
   "source": [
    "## with bootstrapping"
   ]
  },
  {
   "cell_type": "code",
   "execution_count": null,
   "id": "6fb3e8e1",
   "metadata": {},
   "outputs": [],
   "source": [
    "import importlib; import project1; importlib.reload(project1); from project1.project1 import *\n",
    "model_complexity = 20\n",
    "k = 20\n",
    "x, y = np.meshgrid(np.arange(0,1,0.05),np.arange(0,1,0.05))\n",
    "xvec = np.array([x,y])\n",
    "lambdas = np.logspace(-5,5, 10)\n",
    "\n",
    "mses_train, var_train, bias_train = np.zeros((model_complexity,len(lambdas), k)), np.zeros((model_complexity,len(lambdas),k)),np.zeros((model_complexity, len(lambdas),k)) \n",
    "mses_test, var_test, bias_test = np.zeros((model_complexity,len(lambdas), k)), np.zeros((model_complexity, len(lambdas), k)),np.zeros((model_complexity,len(lambdas), k))\n",
    "for p in range(1,model_complexity+1):\n",
    "    print(p)\n",
    "    X = make_design_matrix(xvec = xvec, p = p)[:,1:]\n",
    "    z = FrankeFunction(**{'x%i'%i: xvec[i].ravel() for i in range(len(xvec))})\n",
    "    noise = np.random.normal(0,1,size=z.shape)\n",
    "    znoisy = z + noise\n",
    "    Xtrain, Xtest, ztrain, ztest = train_test_split(X, znoisy)\n",
    "    X_test_scaled = scale_center_X(X = Xtest)\n",
    "    Xtrain_scaled = scale_center_X(X = Xtrain)\n",
    "    for ik in range(k):\n",
    "        z_resampled = resample(data = ztrain)\n",
    "        Xtrain_scaled_resampled = resample(data = Xtrain_scaled)      \n",
    "        for i in range(len(lambdas)):\n",
    "            ztilde_train, betahat = ridge_fp_wo_split(X=Xtrain_scaled_resampled, y=z_resampled-np.mean(z_resampled), lmbda = lambdas[i])\n",
    "            ztilde_train += np.mean(z_resampled)\n",
    "            ztilde_test = X_test_scaled@betahat + np.mean(z_resampled)\n",
    "            mses_train[p-1, i, ik] = MSE(y = z_resampled ,ytilde = ztilde_train)\n",
    "            bias_train[p-1, i, ik] = np.mean((z_resampled-np.mean(ztilde_train))**2)\n",
    "            var_train[p-1, i, ik] = np.var(ztilde_train)\n",
    "\n",
    "            mses_test[p-1, i, ik] = MSE(y = ztest,ytilde = ztilde_test)\n",
    "            bias_test[p-1, i, ik] = np.mean((ztest-np.mean(ztilde_test))**2)\n",
    "            var_test[p-1, i, ik] = np.var(ztilde_test)"
   ]
  },
  {
   "cell_type": "code",
   "execution_count": null,
   "id": "dea5a3a2",
   "metadata": {},
   "outputs": [],
   "source": [
    "fig, axs = plt.subplots(1,len(lambdas), figsize=(len(lambdas)*5,5), sharey=True)\n",
    "\n",
    "ps = np.arange(model_complexity)+1\n",
    "\n",
    "for i in range(len(lambdas)):\n",
    "    if lambdas[i] == 0:\n",
    "        axs[i].set_title(\"$\\\\lambda = 0$\")\n",
    "    else:    \n",
    "        axs[i].set_title(\"$\\\\lambda = 10^{%.3f}$\"%np.log10(lambdas[i]))\n",
    "    #axs[i].plot(ps, np.log10(np.mean(mses_train[:,i],axis=1)),  label=\"MSE train\", color = 'b')\n",
    "    axs[i].plot(ps, np.log10(np.mean(mses_test[:,i], axis=1)),  label=\"MSE test\",  color = 'b', ls='--')\n",
    "    #axs[i].plot(ps, np.log10(np.mean(bias_train[:,i],axis=1)),  label=\"Bias train\",color = 'C1')\n",
    "    axs[i].plot(ps, np.log10(np.mean(bias_test[:,i], axis=1)),  label=\"Bias test\", color = 'C1', ls='--')\n",
    "    #axs[i].plot(ps, np.log10(np.mean(var_train[:,i], axis=1)),  label=\"Var train\", color = 'C2')\n",
    "    axs[i].plot(ps, np.log10(np.mean(var_test[:,i],  axis=1)),  label=\"Var test\",  color = 'C2', ls='--')\n",
    "[ax.set_ylabel(\"log10(MSE)\") for ax in axs]\n",
    "[ax.set_xlabel(\"Polynomial degree\") for ax in axs]\n",
    "[ax.legend() for ax in axs]\n",
    "fig.tight_layout()"
   ]
  },
  {
   "cell_type": "code",
   "execution_count": null,
   "id": "66bfb396",
   "metadata": {},
   "outputs": [],
   "source": [
    "fig, axs = plt.subplots(1,len(lambdas), figsize=(len(lambdas)*5,5), sharey=True)\n",
    "\n",
    "ps = np.arange(model_complexity)+1\n",
    "\n",
    "for i in range(len(lambdas)):\n",
    "    if lambdas[i] == 0:\n",
    "        axs[i].set_title(\"$\\\\lambda = 0$\")\n",
    "    else:    \n",
    "        axs[i].set_title(\"$\\\\lambda = 10^{%.3f}$\"%np.log10(lambdas[i]))\n",
    "    axs[i].plot(ps, np.log10(np.mean(mses_train[:,i],axis=1)),  label=\"MSE train\", color = 'b')\n",
    "    axs[i].plot(ps, np.log10(np.mean(mses_test[:,i], axis=1)),  label=\"MSE test\",  color = 'b', ls='--')\n",
    "    #axs[i].plot(ps, np.log10(np.mean(bias_train[:,i],axis=1)),  label=\"Bias train\",color = 'C1')\n",
    "    axs[i].plot(ps, np.log10(np.mean(bias_test[:,i], axis=1)),  label=\"Bias test\", color = 'C1', ls='--')\n",
    "    #axs[i].plot(ps, np.log10(np.mean(var_train[:,i], axis=1)),  label=\"Var train\", color = 'C2')\n",
    "    axs[i].plot(ps, np.log10(np.mean(var_test[:,i],  axis=1)),  label=\"Var test\",  color = 'C2', ls='--')\n",
    "[ax.set_ylabel(\"log10(MSE)\") for ax in axs]\n",
    "[ax.set_xlabel(\"Polynomial degree\") for ax in axs]\n",
    "[ax.legend() for ax in axs]\n",
    "fig.tight_layout()"
   ]
  },
  {
   "cell_type": "code",
   "execution_count": null,
   "id": "8985230d",
   "metadata": {},
   "outputs": [],
   "source": [
    "fig, axs = plt.subplots(1,model_complexity,figsize=(model_complexity*5,5), sharey=True)\n",
    "for p in range(model_complexity):\n",
    "    axs[p].set_title(\"$p = %i$\"%(p+1))\n",
    "    axs[p].plot(lambdas, np.log10(np.mean(mses_train[p], axis=1)), label=\"MSE Train\")\n",
    "    axs[p].plot(lambdas, np.log10(np.mean(mses_test[p], axis=1)), label=\"MSE Test\") \n",
    "    #axs[p].plot(lambdas, np.log10(np.mean(bias_train[p], axis=1)), label=\"Bias Train\")\n",
    "    #axs[p].plot(lambdas, np.log10(np.mean(bias_test[p], axis=1)), label=\"Bias Test\") \n",
    "    #axs[p].plot(lambdas, np.log10(np.mean(var_train[p], axis=1)), label=\"$\\\\sigma^2$ Train\")\n",
    "    #axs[p].plot(lambdas, np.log10(np.mean(var_test[p], axis=1)), label=\"$\\\\sigma^2$ Test\") \n",
    "[ax.set_xlabel('log10($\\\\lambda$)') for ax in axs]\n",
    "[ax.set_xscale('log') for ax in axs]\n",
    "[ax.legend() for ax in axs]\n",
    "[ax.set_ylabel(\"log10(MSE)\") for ax in axs]\n",
    "fig.tight_layout()"
   ]
  },
  {
   "cell_type": "code",
   "execution_count": null,
   "id": "4823512a",
   "metadata": {},
   "outputs": [],
   "source": [
    "carr = np.arange(mses_train.shape[0])/mses_train.shape[0]\n",
    "cs_train = plt.cm.copper(carr)\n",
    "cs_test = plt.cm.cool(carr)\n",
    "fig, ax = plt.subplots(1,1, figsize=(10,5))\n",
    "for ip in range(mses_train.shape[0]):\n",
    "    ax.plot(lambdas, np.mean(mses_train[ip], axis=1), color = cs_train[ip], label=\"Train p = %i\"%(ip+1))\n",
    "    ax.plot(lambdas, np.mean(mses_test[ip], axis=1), color = cs_test[ip], label=\"Test p = %i\"%(ip+1))\n",
    "\n",
    "ax.set_xscale('log')\n",
    "ax.set_yscale('log')\n",
    "ax.set_ylim(.1,10)\n",
    "ax.set_ylabel(\"MSE\")\n",
    "ax.set_xlabel(\"$\\\\lambda$\")\n",
    "ax.legend(bbox_to_anchor=(1.1,.9,0,.1), ncol=2)\n",
    "fig.tight_layout()"
   ]
  },
  {
   "cell_type": "markdown",
   "id": "f1b74bb7",
   "metadata": {},
   "source": [
    "# f) Lasso"
   ]
  },
  {
   "cell_type": "markdown",
   "id": "77478c10",
   "metadata": {},
   "source": [
    "## Test case\n",
    "\n",
    "### UiO example"
   ]
  },
  {
   "cell_type": "code",
   "execution_count": 25,
   "id": "9791f144",
   "metadata": {},
   "outputs": [
    {
     "name": "stdout",
     "output_type": "stream",
     "text": [
      "[2. 2.]\n",
      "Training MSE for OLS\n",
      "3.0\n"
     ]
    }
   ],
   "source": [
    "import os\n",
    "import numpy as np\n",
    "import pandas as pd\n",
    "import matplotlib.pyplot as plt\n",
    "from sklearn import linear_model\n",
    "\n",
    "def R2(y_data, y_model):\n",
    "    return 1 - np.sum((y_data - y_model) ** 2) / np.sum((y_data - np.mean(y_data)) ** 2)\n",
    "def MSE(y_data,y_model):\n",
    "    n = np.size(y_model)\n",
    "    return np.sum((y_data-y_model)**2)/n\n",
    "\n",
    "X = np.array( [ [ 2, 0], [0, 1], [0,0]])\n",
    "y = np.array( [4, 2, 3])\n",
    "\n",
    "\n",
    "# matrix inversion to find beta\n",
    "OLSbeta = np.linalg.inv(X.T @ X) @ X.T @ y\n",
    "print(OLSbeta)\n",
    "# and then make the prediction\n",
    "ytildeOLS = X @ OLSbeta\n",
    "print(\"Training MSE for OLS\")\n",
    "print(MSE(y,ytildeOLS))\n",
    "ypredictOLS = X @ OLSbeta\n",
    "\n",
    "# Repeat now for Ridge regression and various values of the regularization parameter\n",
    "I = np.eye(2,2)\n",
    "# Decide which values of lambda to use\n",
    "nlambdas = 100\n",
    "MSERidgePredict = np.zeros(nlambdas)\n",
    "MSELassoPredict = np.zeros(nlambdas)\n",
    "lambdas = np.logspace(-4, 4, nlambdas)\n",
    "for i in range(nlambdas):\n",
    "    lmb = lambdas[i]\n",
    "    X_scaled = scale_center_X(X = X)\n",
    "    Ridgebeta = np.linalg.inv(X_scaled.T @ X_scaled+lmb*I) @ X_scaled.T @ (y-np.mean(y))\n",
    "    #print(Ridgebeta)\n",
    "    # and then make the prediction\n",
    "    ypredictRidge = X_scaled @ Ridgebeta + np.mean(y)\n",
    "    MSERidgePredict[i] = MSE(y,ypredictRidge)\n",
    "    RegLasso = linear_model.Lasso(lmb, fit_intercept=True)\n",
    "    RegLasso.fit(X_scaled,y-np.mean(y))\n",
    "    ypredictLasso = RegLasso.predict(X_scaled) + np.mean(y)\n",
    "    #print(RegLasso.coef_)\n",
    "    MSELassoPredict[i] = MSE(y,ypredictLasso)"
   ]
  },
  {
   "cell_type": "code",
   "execution_count": 26,
   "id": "61d2ea39",
   "metadata": {},
   "outputs": [
    {
     "data": {
      "text/plain": [
       "[<matplotlib.legend.Legend at 0x7f6455f460d0>,\n",
       " <matplotlib.legend.Legend at 0x7f6455f465e0>]"
      ]
     },
     "execution_count": 26,
     "metadata": {},
     "output_type": "execute_result"
    },
    {
     "data": {
      "image/png": "[encoded data removed]",
      "text/plain": [
       "<Figure size 720x360 with 2 Axes>"
      ]
     },
     "metadata": {
      "needs_background": "light"
     },
     "output_type": "display_data"
    }
   ],
   "source": [
    "import importlib; import project1; importlib.reload(project1); from project1.project1 import *\n",
    "\n",
    "MSERidgePredict_own = np.zeros(nlambdas)\n",
    "MSELassoPredict_own = np.zeros(nlambdas)\n",
    "for i in range(nlambdas):\n",
    "    ypredictRidge_own, Ridgebeta_own = ridge_fp_wo_split(X = X, y = y, lmbda=lambdas[i])\n",
    "    # and then make the prediction\n",
    "    MSERidgePredict_own[i] = MSE(y,ypredictRidge_own)\n",
    "    ypredictLasso_own,Lassobeta_own  = lasso_fp_wo_split(X = X, y = y, lmbda=lambdas[i])\n",
    "    MSELassoPredict_own[i] = MSE(y,ypredictLasso_own)\n",
    "# Now plot the results\n",
    "fig, axs = plt.subplots(1,2, figsize=(10,5))\n",
    "axs[0].plot(np.log10(lambdas), MSERidgePredict, 'C1--', label = 'MSE Ridge Train')\n",
    "axs[1].plot(np.log10(lambdas), MSELassoPredict, 'C2--', label = 'MSE Lasso Train')\n",
    "axs[0].plot(np.log10(lambdas), MSERidgePredict_own, 'b-', label = 'Own MSE Ridge Train', alpha=0.5)\n",
    "axs[1].plot(np.log10(lambdas), MSELassoPredict_own, 'r--', label = 'Own MSE Lasso Train')\n",
    "[ax.set_xlabel('log10(lambda)') for ax in axs]\n",
    "[ax.set_ylabel('MSE') for ax in axs]\n",
    "[ax.legend() for ax in axs]"
   ]
  },
  {
   "cell_type": "code",
   "execution_count": 27,
   "id": "4a7b0bb9",
   "metadata": {},
   "outputs": [
    {
     "data": {
      "image/png": "[encoded data removed]",
      "text/plain": [
       "<Figure size 720x360 with 2 Axes>"
      ]
     },
     "metadata": {
      "needs_background": "light"
     },
     "output_type": "display_data"
    }
   ],
   "source": [
    "# Now plot the difference of the results\n",
    "fig, axs = plt.subplots(1,2, figsize=(10,5))\n",
    "axs[0].plot(np.log10(lambdas), MSERidgePredict-MSERidgePredict_own, 'b-', label = 'Own MSE Ridge Train', alpha=0.5)\n",
    "axs[1].plot(np.log10(lambdas), MSELassoPredict-MSELassoPredict_own, 'r--', label = 'Own MSE Lasso Train')\n",
    "plt.xlabel('log10(lambda)')\n",
    "plt.ylabel('MSE')\n",
    "plt.legend()\n",
    "plt.show()"
   ]
  },
  {
   "cell_type": "markdown",
   "id": "952aaf92",
   "metadata": {},
   "source": [
    "## Franke function\n",
    "### Bootstrapping bias-variacne trade-off"
   ]
  },
  {
   "cell_type": "code",
   "execution_count": null,
   "id": "e925648b",
   "metadata": {},
   "outputs": [
    {
     "name": "stdout",
     "output_type": "stream",
     "text": [
      "1\n",
      "2\n",
      "3\n",
      "4\n",
      "5\n"
     ]
    }
   ],
   "source": [
    "import importlib; import project1; importlib.reload(project1); from project1.project1 import *\n",
    "model_complexity = 5\n",
    "k = 100\n",
    "x, y = np.meshgrid(np.arange(0,1,0.01),np.arange(0,1,0.01))\n",
    "xvec = np.array([x,y])\n",
    "z = FrankeFunction(**{'x%i'%i: xvec[i].ravel() for i in range(len(xvec))})\n",
    "noise = np.random.normal(0,1,size=z.shape)\n",
    "znoisy = z + noise\n",
    "    \n",
    "lambdas = np.logspace(-10,5, 20)\n",
    "\n",
    "mses_train, var_train, bias_train = np.zeros((model_complexity,len(lambdas), k)), np.zeros((model_complexity,len(lambdas),k)),np.zeros((model_complexity, len(lambdas),k)) \n",
    "mses_test, var_test, bias_test = np.zeros((model_complexity,len(lambdas), k)), np.zeros((model_complexity, len(lambdas), k)),np.zeros((model_complexity,len(lambdas), k))\n",
    "for p in range(1,model_complexity+1):\n",
    "    print(p)\n",
    "    X = make_design_matrix(xvec = xvec, p = p)[:,1:]    \n",
    "    Xtrain, Xtest, ztrain, ztest = train_test_split(X, znoisy)\n",
    "    Xtest_scaled = scale_center_X(X = Xtest)\n",
    "    for ik in range(k):\n",
    "        z_resampled = resample(data = ztrain)\n",
    "        mean_zresampled = np.mean(z_resampled)\n",
    "        Xtrain_resampled = resample(data = Xtrain)\n",
    "        for i in range(len(lambdas)):\n",
    "            ztilde_train, betahat = lasso_fp_wo_split(X=Xtrain_resampled, y=z_resampled-mean_zresampled, lmbda = lambdas[i],**{'fit_intercept':True})\n",
    "            ztilde_train += mean_zresampled\n",
    "            ztilde_test = Xtest_scaled@betahat + mean_zresampled\n",
    "            mses_train[p-1, i, ik] = MSE(y = z_resampled ,ytilde = ztilde_train)\n",
    "            bias_train[p-1, i, ik] = np.mean((z_resampled-mean_zresampled)**2)\n",
    "            var_train[p-1, i, ik] = np.var(ztilde_train)\n",
    "\n",
    "            mses_test[p-1, i, ik] = MSE(y = ztest,ytilde = ztilde_test)\n",
    "            bias_test[p-1, i, ik] = np.mean((ztest-mean_zresampled)**2)\n",
    "            var_test[p-1, i, ik] = np.var(ztilde_test)"
   ]
  },
  {
   "cell_type": "code",
   "execution_count": null,
   "id": "388b6f74",
   "metadata": {},
   "outputs": [],
   "source": [
    "fig, axs = plt.subplots(1,model_complexity,figsize=(model_complexity*5,5), sharey=True)\n",
    "for p in range(model_complexity):\n",
    "    axs[p].set_title(\"$p = %i$\"%(p+1))\n",
    "    axs[p].plot(lambdas, np.log10(np.mean(mses_train[p], axis=1)), label=\"MSE Train\")\n",
    "    axs[p].plot(lambdas, np.log10(np.mean(mses_test[p], axis=1)), label=\"MSE Test\") \n",
    "    #axs[p].plot(lambdas, np.log10(np.mean(bias_train[p], axis=1)), label=\"Bias Train\")\n",
    "    #axs[p].plot(lambdas, np.log10(np.mean(bias_test[p], axis=1)), label=\"Bias Test\") \n",
    "    #axs[p].plot(lambdas, np.log10(np.mean(var_train[p], axis=1)), label=\"$\\\\sigma^2$ Train\")\n",
    "    #axs[p].plot(lambdas, np.log10(np.mean(var_test[p], axis=1)), label=\"$\\\\sigma^2$ Test\") \n",
    "[ax.set_xscale('log') for ax in axs]\n",
    "\n",
    "[ax.legend() for ax in axs]\n",
    "[ax.set_ylabel(\"log10(MSE)\") for ax in axs]\n",
    "[ax.set_xlabel(\"$\\\\lambda$\") for ax in axs]\n",
    "fig.tight_layout()"
   ]
  },
  {
   "cell_type": "markdown",
   "id": "8782e76d",
   "metadata": {},
   "source": [
    "## CV MSE analysis"
   ]
  },
  {
   "cell_type": "code",
   "execution_count": null,
   "id": "828cfa27",
   "metadata": {
    "scrolled": true
   },
   "outputs": [],
   "source": [
    "from sklearn import linear_model\n",
    "import project1.project1; import importlib; importlib.reload(project1.project1); from project1.project1 import *\n",
    "\n",
    "mses_train, var_train, bias_train, variance_train = np.zeros((model_complexity,len(lambdas), k)), np.zeros((model_complexity,len(lambdas),k)),np.zeros((model_complexity, len(lambdas),k)), np.zeros((model_complexity,len(lambdas),k))\n",
    "mses_test, var_test, bias_test, variance_test = np.zeros((model_complexity,len(lambdas), k)), np.zeros((model_complexity, len(lambdas), k)),np.zeros((model_complexity,len(lambdas), k)), np.zeros((model_complexity, len(lambdas),k))\n",
    "\n",
    "for p in range(1, model_complexity+1):\n",
    "    print(p)\n",
    "    #X = make_design_matrix(xvec = xvec, p = p)\n",
    "    X = create_X(x = x, y=y, n = p)\n",
    "    splits = kfold(data=znoisy, k=k, random_state = 3155)\n",
    "    for i in range(len(lambdas)):\n",
    "        mses_train[p-1,i], mses_test[p-1,i], bias_train[p-1,i], bias_test[p-1,i], var_train[p-1,i], var_test[p-1,i] = cross_validation(data = znoisy, splits = splits, xvec = xvec, k = k, p = p, method = \"lasso\", lmbda = lambdas[i], scale_centering=True)"
   ]
  },
  {
   "cell_type": "code",
   "execution_count": null,
   "id": "48f3ed0e",
   "metadata": {},
   "outputs": [],
   "source": [
    "fig, axs = plt.subplots(1,model_complexity,figsize=(model_complexity*5,5), sharey=True)\n",
    "for p in range(model_complexity):\n",
    "    axs[p].set_title(\"$p=%i$\"%(p+1))\n",
    "    axs[p].plot(lambdas, np.log10(np.mean(mses_train[p], axis=1)), label=\"Train\")\n",
    "    axs[p].plot(lambdas, np.log10(np.mean(mses_test[p], axis=1)), label=\"Test\") \n",
    "[ax.set_xscale('log') for ax in axs]\n",
    "[ax.legend() for ax in axs]\n",
    "[ax.set_ylabel(\"log10(MSE)\") for ax in axs]\n",
    "[ax.set_xlabel(\"$\\\\lambda$\") for ax in axs]"
   ]
  },
  {
   "cell_type": "code",
   "execution_count": null,
   "id": "7f27e2d0",
   "metadata": {},
   "outputs": [],
   "source": [
    "fig, axs = plt.subplots(1,len(lambdas), figsize=(len(lambdas)*5,5), sharey=True)\n",
    "ps = np.arange(model_complexity)+1\n",
    "\n",
    "for i in range(len(lambdas)):\n",
    "    axs[i].set_title(\"$\\\\lambda = 10^{%.3f}$\"%np.log10(lambdas[i]))\n",
    "    axs[i].plot(ps, np.log10(np.mean(mses_train[:,i], axis=1)), label=\"Train\", color='b')\n",
    "    axs[i].plot(ps, np.log10(np.mean(mses_test[:,i], axis=1)), label=\"Test\", color = 'C1')\n",
    "[ax.set_ylabel(\"log10(MSE)\") for ax in axs]\n",
    "[ax.set_xlabel(\"Polynomial degree\") for ax in axs]\n",
    "[ax.legend() for ax in axs]\n",
    "fig.tight_layout()"
   ]
  },
  {
   "cell_type": "markdown",
   "id": "421ab50e",
   "metadata": {},
   "source": [
    "# Real data \n",
    "# g)"
   ]
  },
  {
   "cell_type": "markdown",
   "id": "cfa50964",
   "metadata": {},
   "source": [
    "### plot example"
   ]
  },
  {
   "cell_type": "code",
   "execution_count": null,
   "id": "6e7af56d",
   "metadata": {},
   "outputs": [],
   "source": [
    "from imageio import imread\n",
    "datadir = \"~/cs/ada_ml/ada_ml_project1/datafiles\"\n",
    "terrain1 = np.array(imread(datadir + \"/SRTM_data_Norway_1.tif\"))\n",
    "terrain2 = np.array(imread(datadir + \"/SRTM_data_Norway_2.tif\"))\n",
    "fig, axs = plt.subplots(1,2, figsize = (10,5))\n",
    "fig_3d, axs_3d = plt.subplots(1,2, subplot_kw={'projection':'3d'}, figsize = (10,5))\n",
    "im1 = axs[0].imshow(terrain1, cmap = plt.cm.terrain)\n",
    "im2 = axs[1].imshow(terrain2, cmap = plt.cm.terrain)\n",
    "cbar1 = fig.colorbar(im1, ax = axs[0])\n",
    "cbar2 = fig.colorbar(im2, ax = axs[1])\n",
    "x1, y1 = np.meshgrid(np.linspace(0,1, terrain1.shape[1]), np.linspace(0,1, terrain1.shape[0]) )\n",
    "x2, y2 = np.meshgrid(np.linspace(0,1, terrain2.shape[1]), np.linspace(0,1, terrain2.shape[0]) )\n",
    "axs_3d[0].plot_surface(x1, y1, terrain1/np.sqrt(np.sum(terrain1**2)), cmap =plt.cm.terrain)\n",
    "axs_3d[1].plot_surface(x2, y2, terrain2/np.sqrt(np.sum(terrain2**2)), cmap =plt.cm.terrain)\n",
    "[ax.view_init(20,45) for ax in axs_3d]"
   ]
  },
  {
   "cell_type": "markdown",
   "id": "8ab19b9d",
   "metadata": {},
   "source": [
    "## Test OLS"
   ]
  },
  {
   "cell_type": "code",
   "execution_count": null,
   "id": "63a14836",
   "metadata": {},
   "outputs": [],
   "source": [
    "import importlib; import project1; importlib.reload(project1); from project1.project1 import *\n",
    "p = 10\n",
    "xvec = np.array([x1,y1])\n",
    "\n",
    "#X = make_design_matrix(xvec = xvec, p = p)\n",
    "X = create_X(x = x1, y=y1, n = p)\n",
    "Xtrain, Xtest, ztrain, ztest = train_test_split(X, terrain1.ravel(), **{'random_state' : 42, 'test_size' : 0.3})\n",
    "ztilde_train, betahat = ols_fp_wo_split(X=Xtrain, y=ztrain-np.mean(ztrain))\n",
    "ztilde_train += np.mean(ztrain)\n",
    "ztilde_test = Xtest@betahat + np.mean(ztrain)"
   ]
  },
  {
   "cell_type": "code",
   "execution_count": null,
   "id": "d9245782",
   "metadata": {},
   "outputs": [],
   "source": [
    "fig_3d, axs_3d = plt.subplots(1,2, subplot_kw={'projection':'3d'}, figsize = (10,5))\n",
    "axs_3d[0].scatter(Xtrain[:,1][::100], \n",
    "                  Xtrain[:,2][::100], \n",
    "                  ztilde_train[::100], \n",
    "                  c=ztilde_train[::100], cmap = plt.cm.terrain)\n",
    "axs_3d[1].scatter(Xtest[:,1][::100], \n",
    "                  Xtest[:,2][::100], \n",
    "                  ztilde_test[::100], \n",
    "                  c = ztilde_test[::100], cmap = plt.cm.terrain)"
   ]
  },
  {
   "cell_type": "markdown",
   "id": "e0496c50",
   "metadata": {},
   "source": [
    "## Bias-variance trade-off analysis\n",
    "1. OLS\n",
    "2. Ridge\n",
    "3. Lasso\n",
    "\n",
    "with bootstrap and cross-validation in order to make a full comparison"
   ]
  },
  {
   "cell_type": "markdown",
   "id": "64d7d3fd",
   "metadata": {},
   "source": [
    "### OLS bootstrap"
   ]
  },
  {
   "cell_type": "code",
   "execution_count": null,
   "id": "f3421e8d",
   "metadata": {},
   "outputs": [],
   "source": [
    "import importlib; import project1; importlib.reload(project1); from project1.project1 import *\n",
    "model_complexity = 10\n",
    "k = int(10)\n",
    "xvec = np.array([x1,y1])\n",
    "\n",
    "mses_train, var_train, bias_train = np.zeros((model_complexity, k)), np.zeros((model_complexity,k)),np.zeros((model_complexity,k)) \n",
    "mses_test, var_test, bias_test = np.zeros((model_complexity, k)), np.zeros((model_complexity, k)),np.zeros((model_complexity, k))\n",
    "for p in range(1,model_complexity+1):\n",
    "    print(p)\n",
    "    #X = make_design_matrix(xvec = xvec, p = p)\n",
    "    X = create_X(x = x1, y=y1, n = p)\n",
    "    Xtrain, Xtest, ztrain, ztest = train_test_split(X, terrain1.ravel())\n",
    "    for ik in range(k):\n",
    "        z_resampled = resample(data =ztrain)\n",
    "        ztilde_train, betahat = ols_fp_wo_split(X=Xtrain, y=z_resampled-np.mean(z_resampled))\n",
    "        ztilde_train += np.mean(z_resampled)\n",
    "        ztilde_test = Xtest@betahat + np.mean(z_resampled)\n",
    "        mses_train[p-1, ik] = MSE(y = ztrain ,ytilde = ztilde_train)\n",
    "        bias_train[p-1, ik] = np.mean((ztrain-np.mean(ztilde_train))**2)\n",
    "        var_train[p-1, ik] = np.var(ztilde_train)\n",
    "\n",
    "        mses_test[p-1,ik] = MSE(y = ztest ,ytilde = ztilde_test)\n",
    "        bias_test[p-1,ik] = np.mean((ztest-np.mean(ztilde_test))**2)\n",
    "        var_test[p-1, ik] = np.var(ztilde_test)"
   ]
  },
  {
   "cell_type": "code",
   "execution_count": null,
   "id": "c2bf1c47",
   "metadata": {},
   "outputs": [],
   "source": [
    "fig, ax = plt.subplots(1,1)\n",
    "ps = np.arange(model_complexity)+1\n",
    "ax.set_title(\"$p = %i$\"%(model_complexity))\n",
    "ax.errorbar(ps, np.log10(np.mean(mses_train, axis=1)),yerr=np.log10(np.std(mses_train, axis=1)), label=\"MSE Train\")\n",
    "ax.errorbar(ps, np.log10(np.mean(mses_test, axis=1)), yerr=np.log10(np.std(mses_test, axis=1)),  label=\"MSE Test\" ) \n",
    "ax.errorbar(ps, np.log10(np.mean(bias_train, axis=1)),yerr=np.log10(np.std(bias_train, axis=1)), label=\"Bias Train\",        marker = 'x')\n",
    "ax.errorbar(ps, np.log10(np.mean(bias_test, axis=1)), yerr=np.log10(np.std(bias_test, axis=1)),  label=\"Bias Test\",         marker = 'x') \n",
    "ax.errorbar(ps, np.log10(np.mean(var_train, axis=1)), yerr=np.log10(np.std(var_train, axis=1)),  label=\"$\\\\sigma^2$ Train\", marker = '^')\n",
    "ax.errorbar(ps, np.log10(np.mean(var_test, axis=1)),  yerr=np.log10(np.std(var_test, axis=1)),   label=\"$\\\\sigma^2$ Test\",  marker = '^') \n",
    "ax.legend()\n",
    "ax.set_ylabel(\"log10(MSE)\")\n",
    "ax.set_xticks(ps, ps)\n",
    "fig.tight_layout()"
   ]
  },
  {
   "cell_type": "markdown",
   "id": "f1eafda5",
   "metadata": {},
   "source": [
    "## For profiling"
   ]
  },
  {
   "cell_type": "code",
   "execution_count": null,
   "id": "db2d5a92",
   "metadata": {},
   "outputs": [],
   "source": [
    "%load_ext line_profiler"
   ]
  },
  {
   "cell_type": "markdown",
   "id": "eb1351c0",
   "metadata": {},
   "source": [
    "# CV OLS"
   ]
  },
  {
   "cell_type": "code",
   "execution_count": null,
   "id": "566f2381",
   "metadata": {},
   "outputs": [],
   "source": [
    "from sklearn import linear_model"
   ]
  },
  {
   "cell_type": "code",
   "execution_count": null,
   "id": "663eea67",
   "metadata": {},
   "outputs": [],
   "source": [
    "def cross_validation(data, xvec, k, p, method, lmbda = None):\n",
    "    \"\"\"\n",
    "    Args:\n",
    "\n",
    "    data - data to be fitted, ndarray\n",
    "    k - number of folds, int\n",
    "    p - polynomial degree, int\n",
    "\n",
    "    Out:\n",
    "\n",
    "\n",
    "    mses - MSEs for each train test pair, np array with dim = (k,)\n",
    "\n",
    "    \"\"\"    \n",
    "    # b is flat array of data to fit\n",
    "    b = data.ravel()\n",
    "    indices = np.arange(len(b.ravel()))\n",
    "    isplit = np.full(k, len(b.ravel()) // k, dtype = int)\n",
    "    isplit[:len(b.ravel()) % k] += 1\n",
    "    isplit = np.cumsum(isplit)\n",
    "    np.random.shuffle(indices)\n",
    "    splits = np.split(np.arange(len(b.ravel()))[indices], isplit[:-1])\n",
    "    # initiating the inferences\n",
    "    mses_train = np.zeros((k))\n",
    "    mses_test = np.zeros((k))\n",
    "    bias_train = np.zeros((k))\n",
    "    bias_test = np.zeros((k))\n",
    "    var_train = np.zeros((k))\n",
    "    var_test = np.zeros((k))\n",
    "    for itest in range(k):\n",
    "        test = splits[np.array(itest, dtype = int)]\n",
    "        train = np.concatenate(np.delete(splits, np.array(itest, dtype=int), axis=0))\n",
    "        #Xtrain = make_design_matrix(xvec = np.array([x.ravel()[train] for x in xvec]), p = p)\n",
    "        Xtrain = create_X(x = xvec[0].ravel()[train], y = xvec[1].ravel()[train], n = p)\n",
    "        #Xtest = make_design_matrix(xvec = np.array([x.ravel()[test] for x in xvec]), p = p)\n",
    "        Xtest = create_X(x = xvec[0].ravel()[test], y = xvec[1].ravel()[test], n = p)\n",
    "        if method == \"ols\":\n",
    "            data_tilde_train, betahat = ols_fp_wo_split(X = Xtrain, y = b[train] - np.mean(b[train]))\n",
    "            data_tilde_train += np.mean(b[train])\n",
    "            data_tilde_test = Xtest@betahat + np.mean(b[train])\n",
    "        if method == \"lasso\":\n",
    "            if lmbda is None:\n",
    "                raise ValueError(\"Lambda value has not been set\")\n",
    "            clf_train = linear_model.Lasso(alpha = lmbda)\n",
    "            clf_train.fit(X=Xtrain, y = b[train]-np.mean(b[train]))\n",
    "            betahat = clf_train.coef_\n",
    "            data_tilde_train = Xtrain@betahat + np.mean(b[train])\n",
    "            data_tilde_test = Xtest@betahat + np.mean(b[train])\n",
    "        if method == \"ridge\":\n",
    "            if lmbda is None:\n",
    "                raise ValueError(\"Lambda value has not been set\")\n",
    "            data_tilde_train, betahat = ridge_fp_wo_split(X=Xtrain, y=b[train]-np.mean(b[train]), lmbda=lmbda)\n",
    "            data_tilde_train += np.mean(b[train])\n",
    "            data_tilde_test = Xtest@betahat + np.mean(b[train])\n",
    "        mses_train[itest] = MSE(y = b[train], ytilde = data_tilde_train)\n",
    "        mses_test[itest]  = MSE(y = b[test], ytilde = data_tilde_test)\n",
    "        bias_train[itest] = bias(y = b[train], ytilde = data_tilde_train)\n",
    "        bias_test[itest]  = bias(y = b[test], ytilde = data_tilde_test)\n",
    "        var_train[itest]  = np.var(data_tilde_train)\n",
    "        var_test[itest]   = np.var(data_tilde_test)\n",
    "\n",
    "    return mses_train, mses_test, bias_train, bias_test, var_train, var_test\n",
    "   \n",
    "model_complexity = 5\n",
    "xvec = np.array([x1[::10,::10],y1[::10,::10]])\n",
    "k = 6\n",
    "mses_train, var_train, bias_train, variance_train = np.zeros((model_complexity, k)), np.zeros((model_complexity,k)),np.zeros((model_complexity, k)), np.zeros((model_complexity,k))\n",
    "mses_test, var_test, bias_test, variance_test = np.zeros((model_complexity, k)), np.zeros((model_complexity, k)),np.zeros((model_complexity, k)), np.zeros((model_complexity, k))\n",
    "p = model_complexity + 1 \n",
    "%lprun -f cross_validation cross_validation(data = terrain1[::10,::10], xvec = xvec, k = k, p = p, method = \"ridge\", lmbda = 1e-2)"
   ]
  },
  {
   "cell_type": "markdown",
   "id": "ddac2fb9",
   "metadata": {},
   "source": [
    "### OLS cross validation"
   ]
  },
  {
   "cell_type": "code",
   "execution_count": null,
   "id": "8533b060",
   "metadata": {},
   "outputs": [],
   "source": [
    "import importlib; import project1; importlib.reload(project1); from project1.project1 import *\n",
    "model_complexity = 10\n",
    "xvec = np.array([x1,y1])\n",
    "scale = 1/np.sqrt(np.sum(terrain1**2))\n",
    "k = 6\n",
    "mses_train_ols, var_train_ols, bias_train_ols = np.zeros((model_complexity, k)), np.zeros((model_complexity,k)),np.zeros((model_complexity, k))\n",
    "mses_test_ols,  var_test_ols,  bias_test_ols = np.zeros((model_complexity, k)), np.zeros((model_complexity, k)),np.zeros((model_complexity, k))\n",
    "for p in range(1,model_complexity+1):\n",
    "    print(p)\n",
    "    mses_train_ols[p-1], mses_test_ols[p-1], bias_train_ols[p-1], bias_test_ols[p-1], var_train_ols[p-1], var_test_ols[p-1] = cross_validation(data = scale*terrain1, xvec = xvec, k = k, p = p, method = \"ols\")"
   ]
  },
  {
   "cell_type": "code",
   "execution_count": null,
   "id": "f2462f5e",
   "metadata": {},
   "outputs": [],
   "source": [
    "fig, ax = plt.subplots(1,1,figsize=(5,5), sharey=True)\n",
    "ps = np.arange(model_complexity) + 1\n",
    "ax.plot(ps, np.log10((1/scale)*np.mean(mses_train_ols, axis=1)), ls = '--', label=\"MSE Train\")\n",
    "ax.plot(ps, np.log10((1/scale)*np.mean(mses_test_ols, axis=1)), label=\"MSE Test\") \n",
    "ax.plot(ps, np.log10((1/scale)*np.mean(bias_train_ols, axis=1)), ls = '--', label=\"Bias Train\")\n",
    "ax.plot(ps, np.log10((1/scale)*np.mean(bias_test_ols, axis=1)), label=\"Bias Test\") \n",
    "ax.plot(ps, np.log10((1/scale)*np.mean(var_train_ols, axis=1)), ls = '--', label=\"Var Train\")\n",
    "ax.plot(ps, np.log10((1/scale)*np.mean(var_test_ols, axis=1)), label=\"Var Test\") \n",
    "#ax.set_xscale('log')\n",
    "ax.legend()\n",
    "ax.set_ylabel(\"log10(MSE)\")"
   ]
  },
  {
   "cell_type": "markdown",
   "id": "17cadf8c",
   "metadata": {},
   "source": [
    "## Ridge CV"
   ]
  },
  {
   "cell_type": "code",
   "execution_count": null,
   "id": "edb8cfe2",
   "metadata": {
    "scrolled": true
   },
   "outputs": [],
   "source": [
    "import importlib; import project1; importlib.reload(project1); from project1.project1 import *\n",
    "model_complexity = 10\n",
    "xvec = np.array([x1,y1])\n",
    "k = 6\n",
    "lambdas = np.logspace(-5,5, 10)\n",
    "ll = len(lambdas)\n",
    "mses_train_ridge, var_train_ridge, bias_train_ridge = np.zeros((model_complexity, ll,k)), np.zeros((model_complexity, ll,k)),np.zeros((model_complexity,  ll,k))\n",
    "mses_test_ridge, var_test_ridge, bias_test_ridge = np.zeros((model_complexity,  ll,k)), np.zeros((model_complexity,  ll,k)),np.zeros((model_complexity,  ll,k))\n",
    "for p in range(1,model_complexity+1):\n",
    "    print(p)\n",
    "    for i in range(len(lambdas)):\n",
    "        print(p, i)\n",
    "        mses_train_ridge[p-1, i], mses_test_ridge[p-1, i], bias_train_ridge[p-1, i], bias_test_ridge[p-1, i], var_train_ridge[p-1, i], var_test_ridge[p-1, i] = cross_validation(data = terrain1, xvec = xvec, k = k, p = p, method = \"ridge\", lmbda = lambdas[i])"
   ]
  },
  {
   "cell_type": "code",
   "execution_count": null,
   "id": "ba98bec8",
   "metadata": {},
   "outputs": [],
   "source": [
    "for i in range(model_complexity//2):\n",
    "    fig, ax = plt.subplots(1,1,figsize=(5,5), sharey=True)\n",
    "    ax.plot(lambdas, np.log10(np.mean(mses_train_ridge[i], axis=1)), ls = '--', label=\"MSE Train\")\n",
    "    ax.plot(lambdas, np.log10(np.mean(mses_test_ridge[i], axis=1)), label=\"MSE Test\") \n",
    "    ax.plot(lambdas, np.log10(np.mean(bias_train_ridge[i], axis=1)), ls = '--', label=\"Bias Train\")\n",
    "    ax.plot(lambdas, np.log10(np.mean(bias_test_ridge[i], axis=1)), label=\"Bias Test\") \n",
    "    ax.plot(lambdas, np.log10(np.mean(var_train_ridge[i], axis=1)), ls = '--', label=\"Var Train\")\n",
    "    ax.plot(lambdas, np.log10(np.mean(var_test_ridge[i], axis=1)), label=\"Var Test\") \n",
    "    ax.set_xscale('log')\n",
    "    ax.legend()\n",
    "    ax.set_ylabel(\"log10(MSE)\")\n",
    "    ax.set_ylim(4,5.5)"
   ]
  },
  {
   "cell_type": "code",
   "execution_count": null,
   "id": "64822712",
   "metadata": {},
   "outputs": [],
   "source": [
    "for i in range(model_complexity//2):\n",
    "    fig, ax = plt.subplots(1,1,figsize=(5,5), sharey=True)\n",
    "    ax.plot(lambdas, np.log10(np.mean(mses_train_ridge[i], axis=1)), ls = '--', label=\"MSE Train\")\n",
    "    ax.plot(lambdas, np.log10(np.mean(mses_test_ridge[i], axis=1)), label=\"MSE Test\") \n",
    "    ax.plot(lambdas, np.log10(np.mean(bias_train_ridge[i], axis=1)), ls = '--', label=\"Bias Train\")\n",
    "    ax.plot(lambdas, np.log10(np.mean(bias_test_ridge[i], axis=1)), label=\"Bias Test\") \n",
    "    ax.plot(lambdas, np.log10(np.mean(var_train_ridge[i], axis=1)), ls = '--', label=\"Var Train\")\n",
    "    ax.plot(lambdas, np.log10(np.mean(var_test_ridge[i], axis=1)), label=\"Var Test\") \n",
    "    ax.set_xscale('log')\n",
    "    ax.legend()\n",
    "    ax.set_ylabel(\"log10(MSE)\")\n",
    "    ax.set_ylim(4,5.5)"
   ]
  },
  {
   "cell_type": "markdown",
   "id": "b1ce56c8",
   "metadata": {},
   "source": [
    "# Lasso CV"
   ]
  },
  {
   "cell_type": "code",
   "execution_count": null,
   "id": "8417727d",
   "metadata": {},
   "outputs": [],
   "source": [
    "import importlib; import project1; importlib.reload(project1); from project1.project1 import *\n",
    "model_complexity = 5\n",
    "xvec = np.array([x1,y1])\n",
    "k = 5\n",
    "lambdas = np.logspace(-5,5, 10)\n",
    "ll = len(lambdas)\n",
    "mses_train_lasso, var_train_lasso, bias_train_lasso = np.zeros((model_complexity, ll,k)), np.zeros((model_complexity, ll,k)),np.zeros((model_complexity,  ll,k))\n",
    "mses_test_lasso, var_test_lasso, bias_test_lasso = np.zeros((model_complexity,  ll,k)), np.zeros((model_complexity,  ll,k)),np.zeros((model_complexity,  ll,k))\n",
    "for p in range(1,model_complexity+1):\n",
    "    print(p)\n",
    "    for i in range(len(lambdas)):\n",
    "        print(p, i)\n",
    "        mses_train[p-1, i], mses_test[p-1, i], bias_train[p-1, i], bias_test[p-1, i], var_train[p-1, i], var_test[p-1, i] = cross_validation(data = terrain1, xvec = xvec, k = k, p = p, \n",
    "                                                                                                                                             method = \"lasso\", lmbda = lambdas[i])"
   ]
  },
  {
   "cell_type": "code",
   "execution_count": null,
   "id": "d6169927",
   "metadata": {},
   "outputs": [],
   "source": [
    "fig, axs = plt.subplots(1,ll, figsize=(ll*5,5))\n",
    "\n",
    "ps = np.arange(model_complexity)+1\n",
    "\n",
    "for i in range(len(lambdas)):\n",
    "    if lambdas[i] == 0:\n",
    "        axs[i].set_title(\"$\\\\lambda = 0$\")\n",
    "    else:    \n",
    "        axs[i].set_title(\"$\\\\lambda = 10^{%.3f}$\"%np.log10(lambdas[i]))\n",
    "    axs[i].plot(ps, np.log10(np.mean(mses_train[:,i],axis=1)),  label=\"MSE train\", color = 'b')\n",
    "    axs[i].plot(ps, np.log10(np.mean(mses_test[:,i], axis=1)),  label=\"MSE test\",  color = 'b', ls='--')\n",
    "    axs[i].plot(ps, np.log10(np.mean(bias_train[:,i],axis=1)),  label=\"Bias train\",color = 'C1')\n",
    "    axs[i].plot(ps, np.log10(np.mean(bias_test[:,i], axis=1)),  label=\"Bias test\", color = 'C1', ls='--')\n",
    "    axs[i].plot(ps, np.log10(np.mean(var_train[:,i], axis=1)),  label=\"Var train\", color = 'C2')\n",
    "    axs[i].plot(ps, np.log10(np.mean(var_test[:,i],  axis=1)),  label=\"Var test\",  color = 'C2', ls='--')\n",
    "[ax.set_ylabel(\"log10(MSE)\") for ax in axs]\n",
    "[ax.set_xlabel(\"Polynomial degree\") for ax in axs]\n",
    "[ax.legend() for ax in axs]\n",
    "fig.tight_layout()"
   ]
  },
  {
   "cell_type": "code",
   "execution_count": null,
   "id": "7f19f4b7",
   "metadata": {},
   "outputs": [],
   "source": [
    "for i in range(5):\n",
    "    fig, ax = plt.subplots(1,1,figsize=(5,5), sharey=True)\n",
    "    ax.plot(lambdas, np.log10(np.mean(mses_train[i], axis=1)), ls = '--', label=\"MSE Train\")\n",
    "    ax.plot(lambdas, np.log10(np.mean(mses_test[i], axis=1)), label=\"MSE Test\") \n",
    "    ax.plot(lambdas, np.log10(np.mean(bias_train[i], axis=1)), ls = '--', label=\"Bias Train\")\n",
    "    ax.plot(lambdas, np.log10(np.mean(bias_test[i], axis=1)), label=\"Bias Test\") \n",
    "    ax.plot(lambdas, np.log10(np.mean(var_train[i], axis=1)), ls = '--', label=\"Var Train\")\n",
    "    ax.plot(lambdas, np.log10(np.mean(var_test[i], axis=1)), label=\"Var Test\") \n",
    "    ax.set_xscale('log')\n",
    "    ax.legend()\n",
    "    ax.set_ylabel(\"log10(MSE)\")\n",
    "    ax.set_ylim(4,5.5)"
   ]
  },
  {
   "cell_type": "code",
   "execution_count": null,
   "id": "b3cbcfe6",
   "metadata": {},
   "outputs": [],
   "source": []
  }
 ],
 "metadata": {
  "kernelspec": {
   "display_name": "Python 3 (ipykernel)",
   "language": "python",
   "name": "python3"
  },
  "language_info": {
   "codemirror_mode": {
    "name": "ipython",
    "version": 3
   },
   "file_extension": ".py",
   "mimetype": "text/x-python",
   "name": "python",
   "nbconvert_exporter": "python",
   "pygments_lexer": "ipython3",
   "version": "3.9.12"
  }
 },
 "nbformat": 4,
 "nbformat_minor": 5
}
